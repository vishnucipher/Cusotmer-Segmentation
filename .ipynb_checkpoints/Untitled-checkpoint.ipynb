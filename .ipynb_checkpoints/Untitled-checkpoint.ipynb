{
 "cells": [
  {
   "cell_type": "code",
   "execution_count": null,
   "id": "79a7f30d-fc84-437c-b6df-a9151bfe476f",
   "metadata": {},
   "outputs": [],
   "source": [
    "features = int([request.form[f'feature{i}']) for i in range(1, 18)]"
   ]
  },
  {
   "cell_type": "code",
   "execution_count": null,
   "id": "13da9a3c-9eba-42e2-85e5-f589826e109d",
   "metadata": {},
   "outputs": [],
   "source": [
    "[f'feature {str(i)} ]"
   ]
  }
 ],
 "metadata": {
  "kernelspec": {
   "display_name": "Python 3 (ipykernel)",
   "language": "python",
   "name": "python3"
  },
  "language_info": {
   "codemirror_mode": {
    "name": "ipython",
    "version": 3
   },
   "file_extension": ".py",
   "mimetype": "text/x-python",
   "name": "python",
   "nbconvert_exporter": "python",
   "pygments_lexer": "ipython3",
   "version": "3.11.7"
  }
 },
 "nbformat": 4,
 "nbformat_minor": 5
}
